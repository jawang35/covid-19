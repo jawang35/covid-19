{
 "cells": [
  {
   "cell_type": "code",
   "execution_count": null,
   "metadata": {},
   "outputs": [],
   "source": [
    "import os\n",
    "import matplotlib.pyplot as plt\n",
    "import pandas as pd"
   ]
  },
  {
   "cell_type": "code",
   "execution_count": null,
   "metadata": {},
   "outputs": [],
   "source": [
    "STATE = 'California'\n",
    "COUNTY = 'Orange'\n",
    "\n",
    "DATA_DIR = 'nyt-data'\n",
    "\n",
    "\n",
    "def calculate_daily_stats(df):\n",
    "    df = df.set_index('date')\n",
    "    df['daily_cases'] = df['cases'].diff().fillna(df['cases'])\n",
    "    df['daily_deaths'] = df['deaths'].diff().fillna(df['deaths'])\n",
    "    df['death_rate'] = df['deaths'] / df['cases']\n",
    "    return df\n",
    "\n",
    "\n",
    "country_df = pd.concat(\n",
    "    [\n",
    "        pd.read_csv(os.path.join(DATA_DIR, 'us.csv')),\n",
    "        pd.read_csv(os.path.join(DATA_DIR, 'live', 'us.csv')),\n",
    "    ],\n",
    "    join='inner',\n",
    ")\n",
    "country_df = calculate_daily_stats(country_df)\n",
    "state_df = pd.concat(\n",
    "    [\n",
    "        pd.read_csv(os.path.join(DATA_DIR, 'us-states.csv')),\n",
    "        pd.read_csv(os.path.join(DATA_DIR, 'live', 'us-states.csv')),\n",
    "    ],\n",
    "    join='inner',\n",
    ")\n",
    "state_df = calculate_daily_stats(state_df[state_df['state'] == STATE])\n",
    "county_df = pd.concat(\n",
    "    [\n",
    "        pd.read_csv(os.path.join(DATA_DIR, 'us-counties.csv')),\n",
    "        pd.read_csv(os.path.join(DATA_DIR, 'live', 'us-counties.csv')),\n",
    "    ],\n",
    "    join='inner',\n",
    ")\n",
    "county_df = calculate_daily_stats(county_df[(county_df['state'] == STATE) & (county_df['county'] == COUNTY)])\n",
    "\n",
    "print(country_df.tail())\n",
    "print(state_df.tail())\n",
    "print(county_df.tail())"
   ]
  },
  {
   "cell_type": "code",
   "execution_count": null,
   "metadata": {},
   "outputs": [],
   "source": [
    "SIZE = (20, 12)\n",
    "\n",
    "fig, axs = plt.subplots(3, 3, figsize=SIZE)\n",
    "\n",
    "\n",
    "def draw_graphs(ax_row, df, region_label):\n",
    "    ax_row[0].set(xticks=[], title=f'Daily Cases {region_label}')\n",
    "    ax_row[0].bar(df.index, df['daily_cases'])\n",
    "    ax_row[0].plot(df.index, df['daily_cases'].rolling(7, 1).mean(), color='red')\n",
    "    \n",
    "    ax_row[1].set(xticks=[], title=f'Daily Deaths {region_label}')\n",
    "    ax_row[1].bar(df.index, df['daily_deaths'])\n",
    "    ax_row[1].plot(df.index, df['daily_deaths'].rolling(7, 1).mean(), color='red')\n",
    "    \n",
    "    ax_row[2].set(xticks=[], title=f'Death Rate {region_label}')\n",
    "    ax_row[2].plot(df.index, df['death_rate'])\n",
    "\n",
    "\n",
    "draw_graphs(axs[0], country_df, 'U.S.')\n",
    "draw_graphs(axs[1], state_df, f'State: {STATE}')\n",
    "draw_graphs(axs[2], county_df, f'County: {COUNTY}')\n",
    "\n",
    "plt.show()"
   ]
  }
 ],
 "metadata": {
  "kernelspec": {
   "display_name": "Python 3",
   "language": "python",
   "name": "python3"
  },
  "language_info": {
   "codemirror_mode": {
    "name": "ipython",
    "version": 3
   },
   "file_extension": ".py",
   "mimetype": "text/x-python",
   "name": "python",
   "nbconvert_exporter": "python",
   "pygments_lexer": "ipython3",
   "version": "3.8.5"
  }
 },
 "nbformat": 4,
 "nbformat_minor": 4
}
